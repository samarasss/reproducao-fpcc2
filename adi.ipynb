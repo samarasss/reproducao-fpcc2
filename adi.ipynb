{
 "cells": [
  {
   "cell_type": "code",
   "execution_count": 1,
   "metadata": {},
   "outputs": [],
   "source": [
    "import pandas as pd"
   ]
  },
  {
   "cell_type": "code",
   "execution_count": 30,
   "metadata": {},
   "outputs": [],
   "source": [
    "dados = pd.read_csv(\"dados/util_data.csv\")"
   ]
  },
  {
   "cell_type": "code",
   "execution_count": 31,
   "metadata": {},
   "outputs": [],
   "source": [
    "#Define a capacidade de acordo com o tipo de instância\n",
    "def define_capacidade(row):\n",
    "    capacidade = 0\n",
    "    if row['InstanceType'] == \"t2.medium\":\n",
    "        capacidade = 2\n",
    "    elif row['InstanceType'] == \"t2.micro\":\n",
    "        capacidade = 1\n",
    "    elif row['InstanceType'] == \"c5.large\":\n",
    "        capacidade = 2\n",
    "    elif row['InstanceType'] == \"c5.xlarge\":\n",
    "        capacidade = 4\n",
    "    elif row['InstanceType'] == \"m5d.large\":\n",
    "        capacidade = 2\n",
    "    elif row['InstanceType'] == \"m5d.xlarge\":\n",
    "        capacidade = 4\n",
    "    elif row['InstanceType'] == \"r5.2xlarge\":\n",
    "        capacidade = 8\n",
    "    elif row['InstanceType'] == \"t3.micro\":\n",
    "        capacidade = 2\n",
    "   \n",
    "    return capacidade"
   ]
  },
  {
   "cell_type": "code",
   "execution_count": 32,
   "metadata": {},
   "outputs": [],
   "source": [
    "dados['capacidade'] = dados.apply(define_capacidade, axis=1)"
   ]
  },
  {
   "cell_type": "code",
   "execution_count": 33,
   "metadata": {},
   "outputs": [],
   "source": [
    "capacidade_extra = 0 \n",
    "step_size = 2\n",
    "limite_inferior = 39\n",
    "limite_superior = 60"
   ]
  },
  {
   "cell_type": "code",
   "execution_count": 45,
   "metadata": {},
   "outputs": [],
   "source": [
    "utilizacoes = []\n",
    "adis =[]\n",
    "capacidade_extra = 0 \n",
    "step_size = 2\n",
    "cap_extras = []\n",
    "\n",
    "for index, row in dados.iterrows():\n",
    "    capacidade = (row[\"capacidade\"] + capacidade_extra)\n",
    "\n",
    "    if capacidade < row[\"capacidade\"]:\n",
    "        capacidade = row[\"capacidade\"]\n",
    "        \n",
    "    utilizacao = (row[\"Average\"]/capacidade) * 100\n",
    "    utilizacoes.append(utilizacao)\n",
    "   \n",
    "    if utilizacao > limite_superior: \n",
    "        adi = utilizacao - limite_superior\n",
    "        adis.append(adi)\n",
    "        cap_extras.append(capacidade_extra)\n",
    "\n",
    "    elif utilizacao < limite_inferior:\n",
    "        adi = limite_inferior - utilizacao\n",
    "        capacidade_extra = step_size * (-1)\n",
    "        adis.append(adi)\n",
    "        cap_extras.append(capacidade_extra)\n",
    "    \n",
    "    else:\n",
    "        adi = 0\n",
    "        capacidade_extra = 0\n",
    "        adis.append(adi)\n",
    "        cap_extras.append(capacidade_extra)\n",
    "\n",
    "    capacidade_extra = capacidade_extra\n",
    "\n",
    "dados[\"utilizacao\"] = utilizacoes\n",
    "dados[\"adi_fixo\"] = adis\n",
    "dados[\"cap_extra\"] = cap_extras"
   ]
  },
  {
   "cell_type": "code",
   "execution_count": 46,
   "metadata": {},
   "outputs": [],
   "source": [
    "utilizacoes_adap = []\n",
    "adis_adap =[]\n",
    "capacidade_extra = 0 \n",
    "cap_extras_adap = []\n",
    "\n",
    "for index, row in dados.iterrows():\n",
    "    capacidade = (row[\"capacidade\"] + capacidade_extra)\n",
    "\n",
    "    if capacidade < row[\"capacidade\"]:\n",
    "        capacidade = row[\"capacidade\"]\n",
    "        \n",
    "    utilizacao = (row[\"Average\"]/capacidade) * 100\n",
    "    utilizacoes_adap.append(utilizacao)\n",
    "    \n",
    "    if utilizacao > limite_superior: \n",
    "        adi = utilizacao - limite_superior\n",
    "        adis_adap.append(adi)\n",
    "        cap_extra_adap = capacidade *(utilizacao - limite_superior)/limite_superior\n",
    "        if cap_extra_adap == 0:\n",
    "            capacidade_extra = 0\n",
    "        elif cap_extra_adap > 0 and cap_extra_adap <=1:\n",
    "            capacidade_extra = 1\n",
    "        elif cap_extra_adap > 1 and cap_extra_adap <=2:\n",
    "            capacidade_extra = 2\n",
    "        elif cap_extra_adap > 2 and cap_extra_adap <=4:\n",
    "            capacidade_extra = 4\n",
    "        elif cap_extra_adap > 4:\n",
    "            capacidade_extra = 8\n",
    "        cap_extras_adap.append(capacidade_extra)\n",
    "\n",
    "    elif utilizacao < limite_inferior:\n",
    "        adi = limite_inferior - utilizacao\n",
    "        capacidade_extra = step_size * (-1)\n",
    "        adis_adap.append(adi)\n",
    "        cap_extra_adap =  (capacidade * (limite_superior - utilizacao))/limite_superior\n",
    "        if cap_extra_adap == 0:\n",
    "            capacidade_extra = 0\n",
    "        elif cap_extra_adap > 0 and cap_extra_adap <=1:\n",
    "            capacidade_extra = 1\n",
    "        elif cap_extra_adap > 1 and cap_extra_adap <=2:\n",
    "            capacidade_extra = 2\n",
    "        elif cap_extra_adap > 2 and cap_extra_adap <=4:\n",
    "            capacidade_extra = 4\n",
    "        elif cap_extra_adap > 4:\n",
    "            capacidade_extra = 8\n",
    "        cap_extras_adap.append(capacidade_extra)\n",
    "    \n",
    "    else:\n",
    "        adi = 0\n",
    "        capacidade_extra = 0\n",
    "        adis_adap.append(adi)\n",
    "        cap_extras_adap.append(capacidade_extra)\n",
    "\n",
    "    capacidade_extra = capacidade_extra\n",
    "\n",
    "dados[\"utilizacao_adap\"] = utilizacoes_adap\n",
    "dados[\"adi_adaptativo\"] = adis_adap\n",
    "dados[\"cap_extra_adap\"] = cap_extras_adap"
   ]
  },
  {
   "cell_type": "code",
   "execution_count": 28,
   "metadata": {},
   "outputs": [],
   "source": [
    "dados.to_csv(\"dados_adi_fixo_adap.csv\")"
   ]
  },
  {
   "cell_type": "code",
   "execution_count": 49,
   "metadata": {},
   "outputs": [
    {
     "data": {
      "image/png": "[encoded data removed]",
      "text/plain": [
       "<Figure size 432x288 with 1 Axes>"
      ]
     },
     "metadata": {
      "needs_background": "light"
     },
     "output_type": "display_data"
    }
   ],
   "source": [
    "import matplotlib.pyplot as plt\n",
    "\n",
    "plt.bar([\"ADI-Fixo\", \"ADI-Adaptativo\"], [sum(dados[\"adi_fixo\"]/100),sum(dados[\"adi_adaptativo\"]/100)])\n",
    "plt.show()"
   ]
  }
 ],
 "metadata": {
  "interpreter": {
   "hash": "916dbcbb3f70747c44a77c7bcd40155683ae19c65e1c03b4aa3499c5328201f1"
  },
  "kernelspec": {
   "display_name": "Python 3.8.10 64-bit",
   "language": "python",
   "name": "python3"
  },
  "language_info": {
   "codemirror_mode": {
    "name": "ipython",
    "version": 3
   },
   "file_extension": ".py",
   "mimetype": "text/x-python",
   "name": "python",
   "nbconvert_exporter": "python",
   "pygments_lexer": "ipython3",
   "version": "3.8.10"
  },
  "orig_nbformat": 4
 },
 "nbformat": 4,
 "nbformat_minor": 2
}
